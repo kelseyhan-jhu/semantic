{
 "cells": [
  {
   "cell_type": "code",
   "execution_count": 1,
   "metadata": {},
   "outputs": [],
   "source": [
    "from argparse import ArgumentParser\n",
    "import os\n",
    "import shutil\n",
    "from tqdm import tqdm\n",
    "import numpy as np\n",
    "import torch\n",
    "from feature_extractors import AlexNetFC6, AlexNetConv5, AlexNetFull\n",
    "from utils import listdir, image_to_tensor\n",
    "from scipy.stats import pearsonr\n",
    "from utils import p2r, stack_features, word2sense, regression, cv_regression_w2s, image_to_tensor, Subject, listdir, correlation"
   ]
  },
  {
   "cell_type": "code",
   "execution_count": 2,
   "metadata": {},
   "outputs": [
    {
     "name": "stderr",
     "output_type": "stream",
     "text": [
      "100%|██████████| 1854/1854 [13:25<00:00,  2.30it/s]\n"
     ]
    }
   ],
   "source": [
    "#feat_extractor = AlexNetFC6()\n",
    "#feat_extractor = AlexNetConv5() # [stim, 256, 7, 7]\n",
    "feat_extractor = AlexNetFull()\n",
    "\n",
    "conditions = listdir('images')\n",
    "\n",
    "# Setup w2s\n",
    "w2s_file = \"ThingsWrd2Sns.txt\"\n",
    "_, w2s_embeddings = word2sense(w2s_file)\n",
    "nDim = 2250\n",
    "\n",
    "condition_features = {}\n",
    "for c in tqdm(conditions):\n",
    "    c_name = c.split('/')[-1]\n",
    "    stimuli = listdir(c)\n",
    "    stimuli = [image_to_tensor(s, resolution=255) for s in stimuli]\n",
    "    stimuli = torch.stack(stimuli) # stacked in 10\n",
    "    #if torch.cuda.is_available():\n",
    "    #    stimuli = stimuli.cuda()\n",
    "    feats = []\n",
    "    with torch.no_grad():\n",
    "        _, c2, c3, c4, c5, fc6, _ = feat_extractor(stimuli)\n",
    "    c2 = c2.mean(dim=0)\n",
    "    c3 = c3.mean(dim=0)\n",
    "    c4 = c4.mean(dim=0)\n",
    "    c5 = c5.mean(dim=0)\n",
    "    fc6 = fc6.mean(dim=0)\n",
    "    feats.append(c2)\n",
    "    feats.append(c3)\n",
    "    feats.append(c4)\n",
    "    feats.append(c5)\n",
    "    feats.append(fc6)\n",
    "    condition_features[c_name] = feats\n"
   ]
  },
  {
   "cell_type": "code",
   "execution_count": 3,
   "metadata": {},
   "outputs": [],
   "source": [
    "np.amax()\n",
    "\n",
    "# features = np.zeros((1470, 256)) #4096, 256\n",
    "# voxels = np.zeros((1470, 200))\n",
    "# w2s = np.zeros((1470, 2250))\n",
    "\n",
    "# condition_features_ = torch.load('features_conv5.pth')\n",
    "\n",
    "# #condition_features_ = torch.load('features_fc6.pth')\n",
    "# print(len(condition_features_))\n",
    "\n",
    "# for i, c in enumerate(conditions):\n",
    "#     c_name = c.split('/')[-1]\n",
    "#     if c_name in w2s_embeddings:\n",
    "#         feature = condition_features_[c_name]\n",
    "#         print(feature.shape)\n",
    "#         voxel = np.load('./predicted_EVC_fc6' + '/' + c_name + '/' + c_name + '.npy')\n",
    "#         #print(voxel.shape)\n",
    "#         features[i, :] = feature\n",
    "#         voxels[i, :] = voxel\n",
    "#         w2s[i, :] = w2s_embeddings[c_name]\n"
   ]
  },
  {
   "cell_type": "code",
   "execution_count": null,
   "metadata": {},
   "outputs": [],
   "source": [
    "corr_featvox = np.zeros((4096, 200))\n",
    "\n",
    "for i in range(4096):\n",
    "    for j in range(200):\n",
    "        corr_featvox[i, j] = (correlation(features[:, i], voxels[:, j]))"
   ]
  },
  {
   "cell_type": "code",
   "execution_count": null,
   "metadata": {},
   "outputs": [],
   "source": [
    "r_threshold = p2r(0.05/4096, 1470)\n",
    "\n",
    "corr_featvox_t = corr_featvox > r_threshold\n",
    "\n",
    "feat_t = np.zeros((4096, 1))\n",
    "\n",
    "for i in range(4096):\n",
    "    feat_t[i] = np.sum(corr_featvox_t[i, :])\n",
    "\n",
    "# import matplotlib.pyplot as plt\n",
    "# plt.figure(figsize=(50,50))\n",
    "# plt.imshow(corr_featvox)\n",
    "# plt.show()\n",
    "\n"
   ]
  },
  {
   "cell_type": "code",
   "execution_count": null,
   "metadata": {},
   "outputs": [],
   "source": [
    "feat_argmax = ((feat_t.T).argsort())[0][::-1]"
   ]
  },
  {
   "cell_type": "code",
   "execution_count": null,
   "metadata": {},
   "outputs": [],
   "source": [
    "feat_argmax_100 = feat_argmax[0:100]"
   ]
  },
  {
   "cell_type": "code",
   "execution_count": null,
   "metadata": {},
   "outputs": [],
   "source": [
    "feat_random_100 = np.random.choice(4096, 100, replace=False)\n",
    "\n",
    "feat_top = features[:, feat_argmax_100]\n",
    "feat_random = features[:, feat_random_100]\n",
    "\n",
    "feat_top_r = []\n",
    "feat_random_r = []"
   ]
  },
  {
   "cell_type": "code",
   "execution_count": null,
   "metadata": {},
   "outputs": [],
   "source": [
    "print (\"cross-validation with top or random features\")\n",
    "\n",
    "_, voxel_mean_r = cv_regression_w2s(feat_top, w2s_embeddings, fit=None, k=9, l2=0.0, pc=None)\n",
    "\n",
    "feat_top_r.append(voxel_mean_r)\n",
    "\n",
    "_, voxel_mean_r = cv_regression_w2s(feat_random, w2s_embeddings, fit=None, k=9, l2=0.0, pc=None)\n",
    "\n",
    "feat_random_r.append(voxel_mean_r)\n"
   ]
  },
  {
   "cell_type": "code",
   "execution_count": null,
   "metadata": {},
   "outputs": [],
   "source": [
    "r_threshold = p2r(0.05/2250, 1470)\n",
    "\n",
    "top_dim_set = {}\n",
    "top_max_set = {}\n",
    "top_mean_set = {}\n",
    "top_med_set = {}\n",
    "\n",
    "top_dim = []\n",
    "top_max = []\n",
    "top_mean = []\n",
    "top_med = []\n",
    "for dim_pred in feat_top_r:\n",
    "    dim_pred = np.array(dim_pred)\n",
    "    dim_pred_score = np.sum(dim_pred > r_threshold)\n",
    "    dim_max = np.nanmax(dim_pred)\n",
    "    dim_mean = np.nanmean(np.array(dim_pred))\n",
    "    dim_med = np.nanmedian(np.array(dim_pred))\n",
    "    top_dim.append(dim_pred_score)\n",
    "    top_max.append(dim_max)\n",
    "    top_mean.append(dim_mean)\n",
    "    top_med.append(dim_med)\n",
    "top_dim_set = top_dim\n",
    "top_max_set = top_max\n",
    "top_mean_set = top_mean\n",
    "top_med_set = top_med\n",
    "\n",
    "random_dim_set = {}\n",
    "random_max_set = {}\n",
    "random_mean_set = {}\n",
    "random_med_set = {}\n",
    "\n",
    "\n",
    "random_dim = []\n",
    "random_max = []\n",
    "random_mean = []\n",
    "random_med = []\n",
    "for dim_pred in feat_random_r:\n",
    "    dim_pred = np.array(dim_pred)\n",
    "    dim_pred_score = np.sum(dim_pred > r_threshold)\n",
    "    dim_max = np.nanmax(dim_pred)\n",
    "    dim_mean = np.nanmean(np.array(dim_pred))\n",
    "    dim_med = np.nanmedian(np.array(dim_pred))\n",
    "    random_dim.append(dim_pred_score)\n",
    "    random_max.append(dim_max)\n",
    "    random_mean.append(dim_mean)\n",
    "    random_med.append(dim_med)\n",
    "random_dim_set = random_dim \n",
    "random_max_set = random_max\n",
    "random_mean_set = random_mean\n",
    "random_med_set = random_med"
   ]
  },
  {
   "cell_type": "code",
   "execution_count": null,
   "metadata": {},
   "outputs": [],
   "source": [
    "print(top_dim_set)\n",
    "print(top_max_set)\n",
    "print(top_mean_set)\n",
    "print(top_med_set)\n",
    "print(random_dim_set)\n",
    "print(random_max_set)\n",
    "print(random_mean_set)\n",
    "print(random_med_set)"
   ]
  },
  {
   "cell_type": "code",
   "execution_count": null,
   "metadata": {},
   "outputs": [],
   "source": [
    "pred_feat_top = np.zeros((100, 2250))\n",
    "pred_feat_random = np.zeros((100, 2250))\n",
    "r_threshold2 = p2r(0.05/2250, 1470)\n",
    "\n",
    "\n",
    "for i in range(100):\n",
    "    for j in range(2250):\n",
    "        pred_feat_top[i, j] = (correlation(feat_top[:, i], w2s[:, j]))\n",
    "        #pred_feat_random[i, j] = (correlation(feat_random[:, i], w2s[:, j]))\n",
    "\n",
    "print(\"predicting w2s with top 100 fc6 features\")"
   ]
  },
  {
   "cell_type": "code",
   "execution_count": null,
   "metadata": {},
   "outputs": [],
   "source": [
    "pred_feat_top_score = np.zeros((100, 1))\n",
    "for i in range(100):\n",
    "    pred_feat_top_score[i] = (np.sum(pred_feat_top[i, :] > r_threshold2))\n",
    "\n",
    "print((pred_feat_top_score.T)[0])\n",
    "\n"
   ]
  },
  {
   "cell_type": "code",
   "execution_count": null,
   "metadata": {},
   "outputs": [],
   "source": [
    "pred_feat_random_score = np.zeros((100, 10))\n",
    "\n",
    "for n in range(10):\n",
    "    feat_randomarg = random.sample(range(4096), 100)\n",
    "    feat_random = features[:, feat_randomarg]\n",
    "    print(feat_random.shape)\n",
    "    for i in range(100):\n",
    "        for j in range(2250):\n",
    "            #pred_feat_top[i, j] = (correlation(feat_top[:, i], w2s[:, j]))\n",
    "            pred_feat_random[i, j] = (correlation(feat_random[:, i], w2s[:, j]))\n",
    "    print(\"predicting w2s with random 100 fc6 features, \" + str(n))\n",
    "    #print(np.sum(pred_feat_random > r_threshold2)) "
   ]
  },
  {
   "cell_type": "code",
   "execution_count": null,
   "metadata": {},
   "outputs": [],
   "source": [
    "\n",
    "for n in range(10):\n",
    "    for i in range(100):\n",
    "        pred_feat_random_score[i, n] = (np.sum(pred_feat_random[i, :] > r_threshold2))\n",
    "        #print(np.sum(pred_feat_random[i, :] > r_threshold2))\n"
   ]
  },
  {
   "cell_type": "code",
   "execution_count": null,
   "metadata": {},
   "outputs": [],
   "source": [
    "print(np.sort(pred_feat_top_score.T))\n",
    "print(pred_feat_random_score[:, 0])\n",
    "\n",
    "\n",
    "fig = plt.figure(figsize=(20, 25))\n",
    "\n",
    "#ax.bar(idx,r)\n",
    "plt.bar(range(0,100), np.sort(pred_feat_top_score.T)[0][::-1], color='darkred', label='top', alpha=0.8)\n",
    "for i in range(10):\n",
    "    plt.bar(range(0,100), np.sort(pred_feat_random_score[:, i])[::-1], color='grey', label='random', alpha=0.1)\n",
    "\n",
    "plt.legend(prop={'size': 20})\n",
    "\n",
    "plt.show()"
   ]
  },
  {
   "cell_type": "code",
   "execution_count": null,
   "metadata": {},
   "outputs": [],
   "source": []
  },
  {
   "cell_type": "code",
   "execution_count": null,
   "metadata": {},
   "outputs": [],
   "source": []
  }
 ],
 "metadata": {
  "kernelspec": {
   "display_name": "firstEnv",
   "language": "python",
   "name": "firstenv"
  },
  "language_info": {
   "codemirror_mode": {
    "name": "ipython",
    "version": 3
   },
   "file_extension": ".py",
   "mimetype": "text/x-python",
   "name": "python",
   "nbconvert_exporter": "python",
   "pygments_lexer": "ipython3",
   "version": "3.8.5"
  }
 },
 "nbformat": 4,
 "nbformat_minor": 4
}
