{
 "cells": [
  {
   "cell_type": "code",
   "execution_count": 1,
   "metadata": {},
   "outputs": [],
   "source": [
    "from sklearn.cross_decomposition import CCA\n",
    "\n",
    "import os, sys\n",
    "from glob import glob\n",
    "from utils import p2r, stack_features, word2sense, regression, cv_regression_w2s, image_to_tensor, Subject, listdir, correlation\n",
    "import numpy as np\n",
    "from tqdm import tqdm\n",
    "\n",
    "import matplotlib\n",
    "from matplotlib import cm\n",
    "import matplotlib.pyplot as plt\n",
    "import seaborn as sns\n",
    "import warnings; warnings.simplefilter('ignore')\n",
    "from collections import OrderedDict \n",
    "import string\n",
    "from sklearn.model_selection import KFold\n"
   ]
  },
  {
   "cell_type": "code",
   "execution_count": 11,
   "metadata": {},
   "outputs": [
    {
     "name": "stdout",
     "output_type": "stream",
     "text": [
      "torch.Size([192, 15, 15])\n",
      "torch.Size([384, 15, 15])\n",
      "torch.Size([256, 15, 15])\n",
      "torch.Size([256, 7, 7])\n",
      "1088\n"
     ]
    }
   ],
   "source": [
    "# Setup w2s\n",
    "w2s_file = \"ThingsWrd2Sns.txt\"\n",
    "_, w2s_embeddings = word2sense(w2s_file)\n",
    "nDim = 2250\n",
    "w2s = np.zeros((1470, 2250))\n",
    "\n",
    "\n",
    "# Setup features\n",
    "condition_features = np.load('features_all_unflattened.npy', allow_pickle=True)\n",
    "\n",
    "nfeat = 0\n",
    "for l in condition_features.item().get('aardvark'):\n",
    "    if l.shape[0] == 4096:\n",
    "        continue\n",
    "    nfeat = nfeat + l.shape[0]\n",
    "    print(l.shape)\n",
    "print(nfeat)\n",
    "features = np.zeros((len(w2s_embeddings), nfeat))\n",
    "idx = 0\n",
    "for i, condition in enumerate(condition_features.item()):\n",
    "    c_name = condition.split('/')[-1]\n",
    "    if c_name in w2s_embeddings:\n",
    "        feat = 0\n",
    "        for l, layer in enumerate(condition_features.item().get(condition)):\n",
    "            if layer.shape[0] == 4096:\n",
    "                continue\n",
    "            for filt in range(layer.shape[0]):\n",
    "                features[idx, feat] = np.amax(np.array(layer[filt]))\n",
    "                feat = feat + 1\n",
    "        idx = idx + 1\n",
    "\n",
    "# Setup voxels\n",
    "voxels = np.zeros((1470, 200))\n",
    "idx = 0\n",
    "for i, c in enumerate(condition_features.item()):\n",
    "    c_name = c.split('/')[-1]\n",
    "    if c_name in w2s_embeddings:\n",
    "        voxel = np.load('./predicted_EVC_conv5' + '/' + c_name + '/' + c_name + '.npy')\n",
    "        #print(voxel.shape)\n",
    "        voxels[idx, :] = voxel\n",
    "        w2s[idx, :] = w2s_embeddings[c_name]\n",
    "        idx = idx + 1"
   ]
  },
  {
   "cell_type": "code",
   "execution_count": 12,
   "metadata": {},
   "outputs": [
    {
     "name": "stdout",
     "output_type": "stream",
     "text": [
      "torch.Size([192, 15, 15])\n",
      "torch.Size([384, 15, 15])\n",
      "torch.Size([256, 15, 15])\n",
      "torch.Size([256, 7, 7])\n",
      "1088\n",
      "(1470, 200)\n",
      "(312, 300)\n"
     ]
    }
   ],
   "source": [
    "# Cat's new word2vec (312 categories)\n",
    "w2v = np.zeros((312, 300))\n",
    "\n",
    "# Setup w2s\n",
    "embedding_file = \"ThingsWrd2Vec_subset.txt\"\n",
    "f = open(embedding_file, 'r', encoding='utf-8')\n",
    "wordvec2lines = f.readlines()\n",
    "f.close()\n",
    "\n",
    "# Wordvec filtered by CM\n",
    "wordvec2 = {}\n",
    "for i, wv2 in enumerate(wordvec2lines):\n",
    "    if i == 0:\n",
    "        continue\n",
    "    word = (wordvec2lines[i].split(','))[0]\n",
    "    if word in w2s_embeddings:\n",
    "        wordvec2[word] = wordvec2lines[i].split(',')[1:]\n",
    "        wordvec2[word][-1] = wordvec2[word][-1].replace('\\n', '')\n",
    "\n",
    "for wv in wordvec2:\n",
    "    wordvec2[wv] = np.array(wordvec2[wv]).astype(np.float)\n",
    "\n",
    "    \n",
    "nfeat = 0\n",
    "for l in condition_features.item().get('aardvark'):\n",
    "    if l.shape[0] == 4096:\n",
    "        continue\n",
    "    nfeat = nfeat + l.shape[0]\n",
    "    print(l.shape)\n",
    "print(nfeat)\n",
    "\n",
    "features_w2v = np.zeros((len(wordvec2), nfeat))\n",
    "idx = 0\n",
    "for i, condition in enumerate(condition_features.item()):\n",
    "    c_name = condition.split('/')[-1]\n",
    "    if c_name in wordvec2:\n",
    "        feat = 0\n",
    "        for l, layer in enumerate(condition_features.item().get(condition)):\n",
    "            if layer.shape[0] == 4096:\n",
    "                continue\n",
    "            for filt in range(layer.shape[0]):\n",
    "                features_w2v[idx, feat] = np.amax(np.array(layer[filt]))\n",
    "                feat = feat + 1\n",
    "        idx = idx + 1    \n",
    "\n",
    "# Setup voxels\n",
    "idx = 0\n",
    "voxels_w2v = np.zeros((len(wordvec2), 200))\n",
    "\n",
    "for i, c in enumerate(condition_features.item()):\n",
    "    c_name = c.split('/')[-1]\n",
    "    if c_name in wordvec2:\n",
    "        voxel = np.load('./predicted_EVC_conv5' + '/' + c_name + '/' + c_name + '.npy')\n",
    "\n",
    "        voxels_w2v[idx, :] = voxel\n",
    "        w2v[idx, :] = wordvec2[c_name]\n",
    "        idx = idx + 1\n",
    "        \n",
    "print(voxels.shape)\n",
    "print(w2v.shape)"
   ]
  },
  {
   "cell_type": "code",
   "execution_count": 20,
   "metadata": {},
   "outputs": [
    {
     "name": "stdout",
     "output_type": "stream",
     "text": [
      "(210, 5)\n",
      "[-0.33611413 -0.05413385 -0.01181923  0.1140636   0.02580966]\n",
      "[-2.46924988e-07 -3.49060015e-08 -1.01058526e-08  8.59775421e-08\n",
      "  2.27231785e-08]\n"
     ]
    },
    {
     "data": {
      "text/plain": [
       "Text(0, 0.5, 'Scores')"
      ]
     },
     "execution_count": 20,
     "metadata": {},
     "output_type": "execute_result"
    },
    {
     "data": {
      "image/png": "[encoded data removed]",
      "text/plain": [
       "<Figure size 432x288 with 1 Axes>"
      ]
     },
     "metadata": {
      "needs_background": "light"
     },
     "output_type": "display_data"
    }
   ],
   "source": [
    "cca1 = CCA(n_components=5)\n",
    "cca1.fit(features, voxels)\n",
    "kf = KFold(n_splits = 7)\n",
    "for train_index, test_index in kf.split(features):\n",
    "    X_r = []\n",
    "    Y_r = []\n",
    "    features_train = features[train_index,]\n",
    "    voxels_train = voxels[train_index,]\n",
    "    features_test = features[test_index,]\n",
    "    voxels_test = voxels[test_index,]\n",
    "    \n",
    "    X_train_r, Y_train_r = cca1.transform(features_train, voxels_train)\n",
    "    X_test_r, Y_test_r = cca1.transform(features_test, voxels_test)\n",
    "\n",
    "    X_r.append(X_test_r)    \n",
    "    Y_r.append(Y_test_r)    \n",
    "    \n",
    "X_r = np.array(X_r)\n",
    "Y_r = np.array(Y_r)\n",
    "X_r = np.reshape(X_r, (X_r.shape[1], X_r.shape[2]))\n",
    "Y_r = np.reshape(Y_r, (Y_r.shape[1], Y_r.shape[2]))\n",
    "print(X_r.shape)\n",
    "\n",
    "mean_X_r = np.nanmean(X_r, axis=0) # mean across k folds \n",
    "mean_Y_r = np.nanmean(Y_r, axis=0) # mean across k folds \n",
    "\n",
    "print(mean_X_r)\n",
    "print(mean_Y_r)\n",
    "\n",
    "plt.title('CCA: visual feature, voxel space')\n",
    "x = np.arange(1, 6, 1)\n",
    "plt.plot(x, mean_X_r)\n",
    "plt.plot(x, mean_Y_r)\n",
    "plt.xlabel('Top components')\n",
    "plt.ylabel('Scores')\n"
   ]
  },
  {
   "cell_type": "code",
   "execution_count": 22,
   "metadata": {},
   "outputs": [
    {
     "name": "stdout",
     "output_type": "stream",
     "text": [
      "(210, 5)\n",
      "[-0.00732969  0.01471224  0.00139813  0.00010782 -0.00653017]\n",
      "[-0.02504007  0.0064063   0.00505333  0.00035737 -0.01999894]\n"
     ]
    },
    {
     "data": {
      "text/plain": [
       "Text(0, 0.5, 'Scores')"
      ]
     },
     "execution_count": 22,
     "metadata": {},
     "output_type": "execute_result"
    },
    {
     "data": {
      "image/png": "[encoded data removed]",
      "text/plain": [
       "<Figure size 432x288 with 1 Axes>"
      ]
     },
     "metadata": {
      "needs_background": "light"
     },
     "output_type": "display_data"
    }
   ],
   "source": [
    "cca2 = CCA(n_components=5)\n",
    "cca2.fit(features, w2s)\n",
    "kf = KFold(n_splits = 7)\n",
    "for train_index, test_index in kf.split(features):\n",
    "    X_r = []\n",
    "    Y_r = []\n",
    "    features_train = features[train_index,]\n",
    "    dims_train = w2s[train_index,]\n",
    "    features_test = features[test_index,]\n",
    "    dims_test = w2s[test_index,]\n",
    "    \n",
    "    X_train_r, Y_train_r = cca2.transform(features_train, dims_train)\n",
    "    X_test_r, Y_test_r = cca2.transform(features_test, dims_test)\n",
    "\n",
    "    X_r.append(X_test_r)    \n",
    "    Y_r.append(Y_test_r)    \n",
    "    \n",
    "X_r = np.array(X_r)\n",
    "Y_r = np.array(Y_r)\n",
    "X_r = np.reshape(X_r, (X_r.shape[1], X_r.shape[2]))\n",
    "Y_r = np.reshape(Y_r, (Y_r.shape[1], Y_r.shape[2]))\n",
    "print(X_r.shape)\n",
    "\n",
    "mean_X_r = np.nanmean(X_r, axis=0) # mean across k folds \n",
    "mean_Y_r = np.nanmean(Y_r, axis=0) # mean across k folds \n",
    "\n",
    "print(mean_X_r)\n",
    "print(mean_Y_r)\n",
    "\n",
    "plt.title('CCA: visual feature, semantic space - word2sense')\n",
    "x = np.arange(1, 6, 1)\n",
    "plt.plot(mean_X_r)\n",
    "plt.plot(mean_Y_r)\n",
    "plt.xlabel('Top components')\n",
    "plt.ylabel('Scores')\n"
   ]
  },
  {
   "cell_type": "code",
   "execution_count": 23,
   "metadata": {},
   "outputs": [
    {
     "name": "stdout",
     "output_type": "stream",
     "text": [
      "(44, 5)\n",
      "[ 0.22082438  0.43514177 -0.1262784  -0.07472723 -0.11420684]\n",
      "[ 0.25726957  0.02455141 -0.02000225 -0.00308614 -0.00558089]\n"
     ]
    },
    {
     "data": {
      "text/plain": [
       "Text(0, 0.5, 'Scores')"
      ]
     },
     "execution_count": 23,
     "metadata": {},
     "output_type": "execute_result"
    },
    {
     "data": {
      "image/png": "[encoded data removed]",
      "text/plain": [
       "<Figure size 432x288 with 1 Axes>"
      ]
     },
     "metadata": {
      "needs_background": "light"
     },
     "output_type": "display_data"
    }
   ],
   "source": [
    "cca3 = CCA(n_components=5)\n",
    "cca3.fit(features_w2v, w2v)\n",
    "kf = KFold(n_splits = 7)\n",
    "for train_index, test_index in kf.split(features_w2v):\n",
    "    X_r = []\n",
    "    Y_r = []\n",
    "    features_train = features_w2v[train_index,]\n",
    "    dims_train = w2v[train_index,]\n",
    "    features_test = features_w2v[test_index,]\n",
    "    dims_test = w2v[test_index,]\n",
    "    \n",
    "    X_train_r, Y_train_r = cca3.transform(features_train, dims_train)\n",
    "    X_test_r, Y_test_r = cca3.transform(features_test, dims_test)\n",
    "\n",
    "    X_r.append(X_test_r)    \n",
    "    Y_r.append(Y_test_r)    \n",
    "    \n",
    "X_r = np.array(X_r)\n",
    "Y_r = np.array(Y_r)\n",
    "X_r = np.reshape(X_r, (X_r.shape[1], X_r.shape[2]))\n",
    "Y_r = np.reshape(Y_r, (Y_r.shape[1], Y_r.shape[2]))\n",
    "print(X_r.shape)\n",
    "\n",
    "mean_X_r = np.nanmean(X_r, axis=0) # mean across k folds \n",
    "mean_Y_r = np.nanmean(Y_r, axis=0) # mean across k folds \n",
    "\n",
    "print(mean_X_r)\n",
    "print(mean_Y_r)\n",
    "\n",
    "plt.title('CCA: visual feature, semantic space - word2vec')\n",
    "\n",
    "plt.plot(mean_X_r)\n",
    "plt.plot(mean_Y_r)\n",
    "plt.xlabel('Top components')\n",
    "plt.ylabel('Scores')\n"
   ]
  },
  {
   "cell_type": "code",
   "execution_count": 24,
   "metadata": {},
   "outputs": [
    {
     "name": "stdout",
     "output_type": "stream",
     "text": [
      "(44, 5)\n",
      "[-2.89091576e-08  2.42310431e-09 -4.00671898e-08 -2.20680723e-08\n",
      " -1.64535538e-08]\n",
      "[-0.07128205  0.00351706 -0.06444782 -0.02632941 -0.03705929]\n"
     ]
    },
    {
     "data": {
      "text/plain": [
       "Text(0, 0.5, 'Scores')"
      ]
     },
     "execution_count": 24,
     "metadata": {},
     "output_type": "execute_result"
    },
    {
     "data": {
      "image/png": "[encoded data removed]",
      "text/plain": [
       "<Figure size 432x288 with 1 Axes>"
      ]
     },
     "metadata": {
      "needs_background": "light"
     },
     "output_type": "display_data"
    }
   ],
   "source": [
    "cca4 = CCA(n_components=5)\n",
    "cca4.fit(voxels_w2v, w2v)\n",
    "kf = KFold(n_splits = 7)\n",
    "for train_index, test_index in kf.split(voxels_w2v):\n",
    "    X_r = []\n",
    "    Y_r = []\n",
    "    features_train = voxels_w2v[train_index,]\n",
    "    dims_train = w2v[train_index,]\n",
    "    features_test = voxels_w2v[test_index,]\n",
    "    dims_test = w2v[test_index,]\n",
    "    \n",
    "    X_train_r, Y_train_r = cca4.transform(features_train, dims_train)\n",
    "    X_test_r, Y_test_r = cca4.transform(features_test, dims_test)\n",
    "\n",
    "    X_r.append(X_test_r)    \n",
    "    Y_r.append(Y_test_r)    \n",
    "    \n",
    "X_r = np.array(X_r)\n",
    "Y_r = np.array(Y_r)\n",
    "X_r = np.reshape(X_r, (X_r.shape[1], X_r.shape[2]))\n",
    "Y_r = np.reshape(Y_r, (Y_r.shape[1], Y_r.shape[2]))\n",
    "print(X_r.shape)\n",
    "\n",
    "mean_X_r = np.nanmean(X_r, axis=0) # mean across k folds \n",
    "mean_Y_r = np.nanmean(Y_r, axis=0) # mean across k folds \n",
    "\n",
    "print(mean_X_r)\n",
    "print(mean_Y_r)\n",
    "\n",
    "plt.title('CCA: voxels, semantic space - word2vec')\n",
    "\n",
    "plt.plot(mean_X_r)\n",
    "plt.plot(mean_Y_r)\n",
    "plt.xlabel('Top components')\n",
    "plt.ylabel('Scores')\n"
   ]
  },
  {
   "cell_type": "code",
   "execution_count": null,
   "metadata": {},
   "outputs": [],
   "source": []
  }
 ],
 "metadata": {
  "kernelspec": {
   "display_name": "firstEnv",
   "language": "python",
   "name": "firstenv"
  },
  "language_info": {
   "codemirror_mode": {
    "name": "ipython",
    "version": 3
   },
   "file_extension": ".py",
   "mimetype": "text/x-python",
   "name": "python",
   "nbconvert_exporter": "python",
   "pygments_lexer": "ipython3",
   "version": "3.8.5"
  }
 },
 "nbformat": 4,
 "nbformat_minor": 4
}
