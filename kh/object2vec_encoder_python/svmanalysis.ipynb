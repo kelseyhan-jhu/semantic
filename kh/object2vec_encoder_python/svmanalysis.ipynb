{
 "cells": [
  {
   "cell_type": "code",
   "execution_count": null,
   "metadata": {},
   "outputs": [],
   "source": [
    "import matplotlib.pyplot as plt\n",
    "from sklearn import datasets, svm, metrics\n",
    "from sklearn.model_selection import train_test_split\n",
    "import numpy as np\n",
    "from utils import listdir\n",
    "import os\n",
    "\n",
    "class PredictedVoxelDataset:\n",
    "    def __init__(self, root_dir):\n",
    "        self.root_dir = root_dir\n",
    "        self.list_category = sorted(os.listdir('predicted_EVC_conv5'))\n",
    "        voxel_path = []\n",
    "        categories = []\n",
    "        nSamples = []\n",
    "        for i, c in enumerate(self.list_category):\n",
    "            voxel_path.extend([os.path.join(self.root_dir, c, s) for s in os.listdir(os.path.join(self.root_dir, c))])\n",
    "            nSample = len([s for s in os.listdir(os.path.join(self.root_dir, c))])\n",
    "            if i == 0:\n",
    "                nSamples.append(nSample)\n",
    "            else:\n",
    "                nSamples.append(nSample+nSamples[i-1])\n",
    "            for n in range(nSample):\n",
    "                categories.append(i)\n",
    "        nSamples.insert(0, 0)\n",
    "        self.voxel_path = voxel_path\n",
    "        self.categories = categories\n",
    "        self.nClass = len(set(categories))\n",
    "        self.nSamples = nSamples\n",
    "    def __len__(self):\n",
    "        return len(self.voxel_path)\n",
    "    def __getitem__(self, idx):\n",
    "        #category = self.list_category[idx]\n",
    "        voxels = np.load(self.voxel_path[idx])[0]\n",
    "        #onehotclass = np.zeros(self.nClass)\n",
    "        #onehotclass[self.categories[idx]] = 1\n",
    "        sample = {'voxel': voxels, 'category': self.categories[idx]}\n",
    "        return sample"
   ]
  },
  {
   "cell_type": "code",
   "execution_count": null,
   "metadata": {},
   "outputs": [],
   "source": [
    "voxel_dataset = PredictedVoxelDataset(root_dir='./predictedvggall/subj001/LOC_conv5')\n",
    "print(len(voxel_dataset))\n",
    "print(voxel_dataset[0]['voxel'].shape)\n",
    "print(voxel_dataset[0]['category'])\n",
    "\n",
    "voxels = np.stack(voxel_dataset[i]['voxel'] for i in range(len(voxel_dataset)))\n",
    "categories = np.stack(voxel_dataset[i]['category'] for i in range(len(voxel_dataset)))\n"
   ]
  },
  {
   "cell_type": "code",
   "execution_count": null,
   "metadata": {},
   "outputs": [],
   "source": [
    "from tqdm import tqdm\n",
    "classifier = svm.SVC(kernel='linear')\n",
    "\n",
    "fmri_score = np.zeros((voxel_dataset.nClass, voxel_dataset.nClass))\n",
    "for i in tqdm(range(0, voxel_dataset.nClass-1, 1)):\n",
    "    if i == 100:\n",
    "        break\n",
    "    voxel_set1 = voxels[voxel_dataset.nSamples[i]:voxel_dataset.nSamples[i+1]]\n",
    "    #print(voxel_set1.shape)\n",
    "    category_set1 = categories[voxel_dataset.nSamples[i]:voxel_dataset.nSamples[i+1]]\n",
    "    for j in range(i+1, voxel_dataset.nClass, 1):\n",
    "        voxel_set2 = voxels[voxel_dataset.nSamples[j]:voxel_dataset.nSamples[j+1]]\n",
    "        category_set2 = categories[voxel_dataset.nSamples[j]:voxel_dataset.nSamples[j+1]]\n",
    "        #print(np.concatenate((voxel_set1, voxel_set2)))\n",
    "        #print(np.concatenate((category_set1, category_set2)))\n",
    "        X_train, X_test, y_train, y_test = train_test_split(\n",
    "             np.concatenate((voxel_set1, voxel_set2)), np.concatenate((category_set1, category_set2)), test_size=0.5, shuffle=True)\n",
    "        classifier.fit(X_train, y_train)\n",
    "        predicted = classifier.predict(X_test)\n",
    "        #print(metrics.classification_report(y_test, predicted))\n",
    "        fmri_score[i,j-1] = classifier.score(X_test, y_test)"
   ]
  },
  {
   "cell_type": "code",
   "execution_count": null,
   "metadata": {},
   "outputs": [],
   "source": [
    "plt.figure(figsize=(15, 15))\n",
    "plt.imshow(fmri_score[:100, :])\n",
    "plt.show()\n",
    "np.mean(fmri_score[:100, :])"
   ]
  },
  {
   "cell_type": "code",
   "execution_count": null,
   "metadata": {},
   "outputs": [],
   "source": [
    "voxel_dataset = PredictedVoxelDataset(root_dir='./predictedvggall_random/subj001/LOC_conv5')\n",
    "print(len(voxel_dataset))\n",
    "print(voxel_dataset[0]['voxel'].shape)\n",
    "print(voxel_dataset[0]['category'])\n",
    "\n",
    "voxels = np.stack(voxel_dataset[i]['voxel'] for i in range(len(voxel_dataset)))\n",
    "categories = np.stack(voxel_dataset[i]['category'] for i in range(len(voxel_dataset)))"
   ]
  },
  {
   "cell_type": "code",
   "execution_count": null,
   "metadata": {},
   "outputs": [],
   "source": [
    "from tqdm import tqdm\n",
    "classifier = svm.SVC(kernel='linear')\n",
    "\n",
    "random_score = np.zeros((voxel_dataset.nClass, voxel_dataset.nClass))\n",
    "for i in tqdm(range(0, voxel_dataset.nClass-1, 1)):\n",
    "    if i == 100:\n",
    "        break\n",
    "    voxel_set1 = voxels[voxel_dataset.nSamples[i]:voxel_dataset.nSamples[i+1]]\n",
    "    #print(voxel_set1.shape)\n",
    "    category_set1 = categories[voxel_dataset.nSamples[i]:voxel_dataset.nSamples[i+1]]\n",
    "    for j in range(i+1, voxel_dataset.nClass, 1):\n",
    "        voxel_set2 = voxels[voxel_dataset.nSamples[j]:voxel_dataset.nSamples[j+1]]\n",
    "        category_set2 = categories[voxel_dataset.nSamples[j]:voxel_dataset.nSamples[j+1]]\n",
    "        #print(np.concatenate((voxel_set1, voxel_set2)))\n",
    "        print(np.concatenate((category_set1, category_set2)))\n",
    "        X_train, X_test, y_train, y_test = train_test_split(\n",
    "             np.concatenate((voxel_set1, voxel_set2)), np.concatenate((category_set1, category_set2)), test_size=0.5, shuffle=True)\n",
    "        classifier.fit(X_train, y_train)\n",
    "        predicted = classifier.predict(X_test)\n",
    "        #print(metrics.classification_report(y_test, predicted))\n",
    "        random_score[i,j-1] = classifier.score(X_test, y_test)\n",
    "        \n",
    "    "
   ]
  },
  {
   "cell_type": "code",
   "execution_count": null,
   "metadata": {},
   "outputs": [],
   "source": [
    "plt.figure(figsize=(10, 10))\n",
    "plt.title('Mean classificaiton accuray (fMRI-derived subspace): ' + str(np.mean(fmri_score[:100, :])))\n",
    "plt1 = plt.imshow(fmri_score[:100, :])\n",
    "        plt.xticks(np.arange(nConds), conds, rotation=90)\n",
    "        plt.yticks(np.arange(nConds), conds)\n",
    "#print('Mean classificaiton accuray (fMRI-derived subspace): ', np.mean(fmri_score[:100, :]))\n",
    "#plt.colorbar(plt1)\n",
    "\n",
    "plt.figure(figsize=(10, 10))\n",
    "plt.title('Mean classificaiton accuray (Random subspace): ' + str(np.mean(random_score[:100, :])))\n",
    "plt2 = plt.imshow(random_score[:100, :])\n",
    "plt.colorbar(plt2, orientation=\"horizontal\")\n",
    "\n",
    "#print('Mean classificaiton accuray (Random subspace): ', np.mean(random_score[:100, :]))"
   ]
  },
  {
   "cell_type": "code",
   "execution_count": null,
   "metadata": {},
   "outputs": [],
   "source": [
    "# disp = metrics.plot_confusion_matrix(classifier, X_test, y_test)\n",
    "# disp.figure_.suptitle(\"Confusion Matrix\")\n",
    "# print(\"Confusion matrix:\\n%s\" % disp.confusion_matrix)"
   ]
  }
 ],
 "metadata": {
  "kernelspec": {
   "display_name": "firstEnv",
   "language": "python",
   "name": "firstenv"
  },
  "language_info": {
   "codemirror_mode": {
    "name": "ipython",
    "version": 3
   },
   "file_extension": ".py",
   "mimetype": "text/x-python",
   "name": "python",
   "nbconvert_exporter": "python",
   "pygments_lexer": "ipython3",
   "version": "3.8.5"
  }
 },
 "nbformat": 4,
 "nbformat_minor": 4
}
